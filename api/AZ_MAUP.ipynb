{
 "cells": [
  {
   "cell_type": "markdown",
   "id": "58fd4961-a01e-4cce-9146-100fb5794425",
   "metadata": {},
   "source": [
    "This notebook file is used data cleaning, preprocessing, and create shape file.  \n",
    "All data is from [Redistricting Data Hub](https://redistrictingdatahub.org/state/arizona/)"
   ]
  },
  {
   "cell_type": "code",
   "execution_count": 1,
   "id": "8043266e-0681-43b3-985b-9d8104a3edd1",
   "metadata": {},
   "outputs": [],
   "source": [
    "# import necessary library\n",
    "import geopandas as gpd\n",
    "import maup\n",
    "from maup import smart_repair\n",
    "\n",
    "maup.progress.enabled = True\n",
    "import warnings\n",
    "warnings.filterwarnings('ignore')"
   ]
  },
  {
   "cell_type": "code",
   "execution_count": 4,
   "id": "864cc601-4017-406b-8c9b-b363ce9eccc3",
   "metadata": {},
   "outputs": [],
   "source": [
    "# load the files\n",
    "population_df = gpd.read_file(\"../data/arizona/az_pl2020_b/az_pl2020_p2_b.shp\")\n",
    "vap_df = gpd.read_file(\"../data/arizona/az_pl2020_b/az_pl2020_p4_b.shp\")\n",
    "vest20_df = gpd.read_file(\"../data/arizona/az_vest_20/az_vest_20.shp\")\n",
    "county_df = gpd.read_file(\"../data/arizona/az_pl2020_cnty/az_pl2020_cnty.shp\")\n",
    "sen_df = gpd.read_file(\"../data/arizona/az_pl2020_sldu/az_pl2020_sldu.shp\")"
   ]
  },
  {
   "cell_type": "code",
   "execution_count": 5,
   "id": "f2387e00-27ff-48a9-9bdb-5a618b8b04e6",
   "metadata": {},
   "outputs": [],
   "source": [
    "sen_df['SLDUST20'] = sen_df['SLDUST20'].astype(str).str.lstrip('0').astype(int)\n",
    "district_col_name = \"SLDUST20\"\n",
    "population_df = population_df.to_crs(population_df.estimate_utm_crs())\n",
    "vap_df = vap_df.to_crs(vap_df.estimate_utm_crs())\n",
    "county_df = county_df.to_crs(county_df.estimate_utm_crs())\n",
    "sen_df = sen_df.to_crs(sen_df.estimate_utm_crs())\n",
    "vest20_df = vest20_df.to_crs(vest20_df.estimate_utm_crs())"
   ]
  },
  {
   "cell_type": "markdown",
   "id": "f787ef70-719c-4bb4-b0dd-392d9a6c498a",
   "metadata": {},
   "source": [
    "# Data inspection and cleaning with MAUP"
   ]
  },
  {
   "cell_type": "code",
   "execution_count": 6,
   "id": "16ffa4ca-0299-4a2a-baf0-13b88cd63735",
   "metadata": {},
   "outputs": [
    {
     "name": "stderr",
     "output_type": "stream",
     "text": [
      "100%|████████████████████████████████████████████████████████████████████| 155444/155444 [00:47<00:00, 3290.11it/s]\n"
     ]
    },
    {
     "data": {
      "text/plain": [
       "True"
      ]
     },
     "execution_count": 6,
     "metadata": {},
     "output_type": "execute_result"
    }
   ],
   "source": [
    "maup.doctor(population_df)"
   ]
  },
  {
   "cell_type": "code",
   "execution_count": 7,
   "id": "e88537a7-1b22-405a-b35c-dd1b2cf47796",
   "metadata": {},
   "outputs": [
    {
     "name": "stderr",
     "output_type": "stream",
     "text": [
      "100%|████████████████████████████████████████████████████████████████████| 155444/155444 [00:47<00:00, 3298.36it/s]\n"
     ]
    },
    {
     "data": {
      "text/plain": [
       "True"
      ]
     },
     "execution_count": 7,
     "metadata": {},
     "output_type": "execute_result"
    }
   ],
   "source": [
    "maup.doctor(vap_df)"
   ]
  },
  {
   "cell_type": "code",
   "execution_count": 8,
   "id": "c16477ad-0ef6-4c86-acbb-68ad47f88d1b",
   "metadata": {},
   "outputs": [
    {
     "name": "stderr",
     "output_type": "stream",
     "text": [
      "100%|█████████████████████████████████████████████████████████████████████████████| 15/15 [00:00<00:00, 145.76it/s]\n"
     ]
    },
    {
     "data": {
      "text/plain": [
       "True"
      ]
     },
     "execution_count": 8,
     "metadata": {},
     "output_type": "execute_result"
    }
   ],
   "source": [
    "maup.doctor(county_df)"
   ]
  },
  {
   "cell_type": "code",
   "execution_count": 9,
   "id": "6ccc942f-565f-4544-9bcd-940114915171",
   "metadata": {},
   "outputs": [
    {
     "name": "stderr",
     "output_type": "stream",
     "text": [
      "100%|█████████████████████████████████████████████████████████████████████████████| 30/30 [00:00<00:00, 150.56it/s]\n"
     ]
    },
    {
     "data": {
      "text/plain": [
       "True"
      ]
     },
     "execution_count": 9,
     "metadata": {},
     "output_type": "execute_result"
    }
   ],
   "source": [
    "maup.doctor(sen_df)"
   ]
  },
  {
   "cell_type": "code",
   "execution_count": 10,
   "id": "92ba9261-98e0-44e0-8664-dba6b5f57e71",
   "metadata": {},
   "outputs": [
    {
     "name": "stderr",
     "output_type": "stream",
     "text": [
      "100%|████████████████████████████████████████████████████████████████████████| 1489/1489 [00:01<00:00, 1382.05it/s]\n"
     ]
    },
    {
     "name": "stdout",
     "output_type": "stream",
     "text": [
      "There are 426 overlaps.\n",
      "There are 5023 holes.\n"
     ]
    },
    {
     "data": {
      "text/plain": [
       "False"
      ]
     },
     "execution_count": 10,
     "metadata": {},
     "output_type": "execute_result"
    }
   ],
   "source": [
    "maup.doctor(vest20_df)"
   ]
  },
  {
   "cell_type": "code",
   "execution_count": 11,
   "id": "365db888-4209-4aae-b50f-3364479bf52f",
   "metadata": {
    "collapsed": true,
    "jupyter": {
     "outputs_hidden": true
    }
   },
   "outputs": [
    {
     "name": "stderr",
     "output_type": "stream",
     "text": [
      "100%|█████████████████████████████████████████████████████████████████████████████| 15/15 [00:00<00:00, 154.65it/s]\n"
     ]
    },
    {
     "name": "stdout",
     "output_type": "stream",
     "text": [
      "Snapping all geometries to a grid with precision 10^( -5 ) to avoid GEOS errors.\n"
     ]
    },
    {
     "name": "stderr",
     "output_type": "stream",
     "text": [
      "100%|█████████████████████████████████████████████████████████████████████████████| 15/15 [00:00<00:00, 437.36it/s]\n",
      "100%|██████████████████████████████████████████████████████████████████████████████| 15/15 [00:00<00:00, 42.53it/s]\n"
     ]
    },
    {
     "name": "stdout",
     "output_type": "stream",
     "text": [
      "Identifying overlaps...\n"
     ]
    },
    {
     "name": "stderr",
     "output_type": "stream",
     "text": [
      "100%|███████████████████████████████████████████████████████████████████████| 39294/39294 [00:55<00:00, 708.91it/s]\n"
     ]
    },
    {
     "name": "stdout",
     "output_type": "stream",
     "text": [
      "Resolving overlaps and filling gaps...\n"
     ]
    },
    {
     "name": "stderr",
     "output_type": "stream",
     "text": [
      "100%|█████████████████████████████████████████████████████████████████████████████| 15/15 [00:00<00:00, 345.02it/s]\n",
      "100%|██████████████████████████████████████████████████████████████████████████████| 15/15 [00:00<00:00, 42.50it/s]\n",
      "Gaps to simplify in region 0: 100%|████████████████████████████████████████████| 4208/4208 [02:12<00:00, 31.81it/s]\n",
      "Gaps to fill in region 0: 100%|████████████████████████████████████████████████████| 11/11 [00:00<00:00, 13.26it/s]\n",
      "Gaps to simplify in region 1: 100%|██████████████████████████████████████████████| 796/796 [00:31<00:00, 25.05it/s]\n",
      "Gaps to fill in region 1: 100%|██████████████████████████████████████████████████████| 7/7 [00:00<00:00, 25.19it/s]\n",
      "Gaps to simplify in region 2: 100%|██████████████████████████████████████████████| 630/630 [00:17<00:00, 35.79it/s]\n",
      "Gaps to fill in region 2: 100%|████████████████████████████████████████████████████| 45/45 [00:01<00:00, 25.87it/s]\n",
      "Gaps to simplify in region 3: 100%|██████████████████████████████████████████████| 423/423 [00:11<00:00, 36.52it/s]\n",
      "Gaps to fill in region 3: 100%|████████████████████████████████████████████████████| 26/26 [00:00<00:00, 30.45it/s]\n",
      "Gaps to simplify in region 4: 100%|████████████████████████████████████████████| 1282/1282 [00:17<00:00, 73.33it/s]\n",
      "Gaps to fill in region 4: 100%|██████████████████████████████████████████████████████| 5/5 [00:00<00:00, 24.85it/s]\n",
      "Gaps to simplify in region 5: 100%|████████████████████████████████████████████████| 44/44 [00:00<00:00, 49.07it/s]\n",
      "Gaps to fill in region 5: 100%|██████████████████████████████████████████████████████| 4/4 [00:00<00:00, 26.38it/s]\n",
      "Gaps to simplify in region 6: 478it [00:09, 49.23it/s]                                                             \n",
      "Gaps to fill in region 6: 100%|████████████████████████████████████████████████████| 42/42 [00:00<00:00, 44.78it/s]\n",
      "Gaps to simplify in region 7: 100%|█████████████████████████████████████████████| 283/283 [00:02<00:00, 134.04it/s]\n",
      "Gaps to fill in region 7: 100%|████████████████████████████████████████████████████| 10/10 [00:00<00:00, 67.99it/s]\n",
      "Gaps to simplify in region 8: 100%|██████████████████████████████████████████████| 981/981 [00:10<00:00, 98.04it/s]\n",
      "Gaps to fill in region 8: 100%|████████████████████████████████████████████████████| 19/19 [00:00<00:00, 46.42it/s]\n",
      "Gaps to simplify in region 9: 100%|██████████████████████████████████████████████| 112/112 [00:02<00:00, 45.35it/s]\n",
      "Gaps to fill in region 9: 100%|██████████████████████████████████████████████████████| 4/4 [00:00<00:00, 16.28it/s]\n",
      "Gaps to simplify in region 10: 100%|█████████████████████████████████████████████| 501/501 [00:21<00:00, 23.05it/s]\n",
      "Gaps to fill: 0it [00:00, ?it/s]\n",
      "Gaps to simplify in region 11: 100%|█████████████████████████████████████████████| 769/769 [00:22<00:00, 33.71it/s]\n",
      "Gaps to fill in region 11: 100%|███████████████████████████████████████████████████| 78/78 [00:03<00:00, 23.41it/s]\n",
      "Gaps to simplify in region 12: 100%|███████████████████████████████████████████████| 66/66 [00:02<00:00, 28.22it/s]\n",
      "Gaps to fill in region 12: 100%|███████████████████████████████████████████████████| 13/13 [00:00<00:00, 13.58it/s]\n",
      "Gaps to simplify in region 13: 100%|█████████████████████████████████████████████| 212/212 [00:13<00:00, 15.89it/s]\n",
      "Gaps to fill in region 13: 100%|███████████████████████████████████████████████████| 13/13 [00:00<00:00, 42.50it/s]\n",
      "Gaps to simplify in region 14: 100%|███████████████████████████████████████████| 4148/4148 [03:14<00:00, 21.31it/s]\n",
      "Gaps to fill in region 14: 100%|███████████████████████████████████████████████████| 19/19 [00:01<00:00, 16.01it/s]\n"
     ]
    }
   ],
   "source": [
    "final_df = smart_repair(vest20_df, nest_within_regions=county_df)"
   ]
  },
  {
   "cell_type": "code",
   "execution_count": 12,
   "id": "b39a26ad-cb98-4feb-ac6b-d55b0b6a3d1f",
   "metadata": {
    "collapsed": true,
    "jupyter": {
     "outputs_hidden": true
    }
   },
   "outputs": [
    {
     "name": "stdout",
     "output_type": "stream",
     "text": [
      "Snapping all geometries to a grid with precision 10^( -5 ) to avoid GEOS errors.\n",
      "Identifying overlaps...\n"
     ]
    },
    {
     "name": "stderr",
     "output_type": "stream",
     "text": [
      "100%|████████████████████████████████████████████████████████████████████████| 1489/1489 [00:00<00:00, 5032.04it/s]\n"
     ]
    },
    {
     "name": "stdout",
     "output_type": "stream",
     "text": [
      "Resolving overlaps...\n",
      "Filling gaps...\n"
     ]
    },
    {
     "name": "stderr",
     "output_type": "stream",
     "text": [
      "Gaps to simplify: 0it [00:00, ?it/s]\n",
      "Gaps to fill: 0it [00:00, ?it/s]\n"
     ]
    },
    {
     "name": "stdout",
     "output_type": "stream",
     "text": [
      "Converting small rook adjacencies to queen...\n"
     ]
    },
    {
     "name": "stderr",
     "output_type": "stream",
     "text": [
      "100%|████████████████████████████████████████████████████████████████████████| 1489/1489 [00:01<00:00, 1293.13it/s]\n",
      "100%|██████████████████████████████████████████████████████████████████████████████| 5/5 [00:00<00:00, 3894.43it/s]\n",
      "100%|██████████████████████████████████████████████████████████████████████████████| 4/4 [00:00<00:00, 3577.23it/s]\n",
      "100%|██████████████████████████████████████████████████████████████████████████████| 4/4 [00:00<00:00, 2745.41it/s]\n",
      "100%|██████████████████████████████████████████████████████████████████████████████| 4/4 [00:00<00:00, 3515.03it/s]\n",
      "100%|██████████████████████████████████████████████████████████████████████████████| 4/4 [00:00<00:00, 2980.50it/s]\n",
      "100%|██████████████████████████████████████████████████████████████████████████████| 4/4 [00:00<00:00, 3236.35it/s]\n",
      "100%|██████████████████████████████████████████████████████████████████████████████| 4/4 [00:00<00:00, 3533.53it/s]\n",
      "100%|██████████████████████████████████████████████████████████████████████████████| 4/4 [00:00<00:00, 3122.50it/s]\n",
      "100%|██████████████████████████████████████████████████████████████████████████████| 4/4 [00:00<00:00, 3600.26it/s]\n",
      "100%|██████████████████████████████████████████████████████████████████████████████| 5/5 [00:00<00:00, 3534.13it/s]\n",
      "100%|██████████████████████████████████████████████████████████████████████████████| 4/4 [00:00<00:00, 3741.57it/s]\n",
      "100%|███████████████████████████████████████████████████████████████████████████████| 5/5 [00:00<00:00, 198.48it/s]\n",
      "100%|██████████████████████████████████████████████████████████████████████████████| 4/4 [00:00<00:00, 2515.70it/s]\n",
      "100%|██████████████████████████████████████████████████████████████████████████████| 4/4 [00:00<00:00, 3079.52it/s]\n",
      "100%|██████████████████████████████████████████████████████████████████████████████| 4/4 [00:00<00:00, 2706.88it/s]\n",
      "100%|██████████████████████████████████████████████████████████████████████████████| 4/4 [00:00<00:00, 2956.34it/s]\n",
      "100%|██████████████████████████████████████████████████████████████████████████████| 4/4 [00:00<00:00, 3149.47it/s]\n",
      "100%|██████████████████████████████████████████████████████████████████████████████| 8/8 [00:00<00:00, 4178.11it/s]\n",
      "100%|██████████████████████████████████████████████████████████████████████████████| 4/4 [00:00<00:00, 3125.41it/s]\n",
      "100%|██████████████████████████████████████████████████████████████████████████████| 4/4 [00:00<00:00, 3587.17it/s]\n",
      "100%|██████████████████████████████████████████████████████████████████████████████| 4/4 [00:00<00:00, 3445.01it/s]\n",
      "100%|██████████████████████████████████████████████████████████████████████████████| 4/4 [00:00<00:00, 2930.52it/s]\n",
      "100%|██████████████████████████████████████████████████████████████████████████████| 4/4 [00:00<00:00, 2799.47it/s]\n",
      "100%|██████████████████████████████████████████████████████████████████████████████| 4/4 [00:00<00:00, 3636.15it/s]\n",
      "100%|██████████████████████████████████████████████████████████████████████████████| 4/4 [00:00<00:00, 3372.30it/s]\n",
      "100%|██████████████████████████████████████████████████████████████████████████████| 4/4 [00:00<00:00, 2536.62it/s]\n",
      "100%|██████████████████████████████████████████████████████████████████████████████| 4/4 [00:00<00:00, 4006.98it/s]\n",
      "100%|██████████████████████████████████████████████████████████████████████████████| 4/4 [00:00<00:00, 4056.39it/s]\n",
      "100%|██████████████████████████████████████████████████████████████████████████████| 4/4 [00:00<00:00, 3478.59it/s]\n",
      "100%|██████████████████████████████████████████████████████████████████████████████| 5/5 [00:00<00:00, 3576.93it/s]\n",
      "100%|██████████████████████████████████████████████████████████████████████████████| 5/5 [00:00<00:00, 3890.82it/s]\n",
      "100%|██████████████████████████████████████████████████████████████████████████████| 4/4 [00:00<00:00, 3649.60it/s]\n",
      "100%|██████████████████████████████████████████████████████████████████████████████| 4/4 [00:00<00:00, 4120.14it/s]\n",
      "100%|██████████████████████████████████████████████████████████████████████████████| 5/5 [00:00<00:00, 3736.91it/s]\n",
      "100%|██████████████████████████████████████████████████████████████████████████████| 4/4 [00:00<00:00, 3540.24it/s]\n",
      "100%|██████████████████████████████████████████████████████████████████████████████| 5/5 [00:00<00:00, 3728.93it/s]\n",
      "100%|██████████████████████████████████████████████████████████████████████████████| 4/4 [00:00<00:00, 3627.51it/s]\n",
      "100%|██████████████████████████████████████████████████████████████████████████████| 4/4 [00:00<00:00, 3533.53it/s]\n",
      "100%|██████████████████████████████████████████████████████████████████████████████| 4/4 [00:00<00:00, 3734.91it/s]\n",
      "100%|██████████████████████████████████████████████████████████████████████████████| 4/4 [00:00<00:00, 3673.57it/s]\n",
      "100%|██████████████████████████████████████████████████████████████████████████████| 4/4 [00:00<00:00, 3717.53it/s]\n",
      "100%|██████████████████████████████████████████████████████████████████████████████| 4/4 [00:00<00:00, 3794.89it/s]\n",
      "100%|██████████████████████████████████████████████████████████████████████████████| 4/4 [00:00<00:00, 3925.41it/s]\n",
      "100%|██████████████████████████████████████████████████████████████████████████████| 4/4 [00:00<00:00, 3146.51it/s]\n",
      "100%|██████████████████████████████████████████████████████████████████████████████| 5/5 [00:00<00:00, 3867.14it/s]\n",
      "100%|██████████████████████████████████████████████████████████████████████████████| 4/4 [00:00<00:00, 3830.41it/s]\n",
      "100%|██████████████████████████████████████████████████████████████████████████████| 4/4 [00:00<00:00, 1011.35it/s]\n",
      "100%|██████████████████████████████████████████████████████████████████████████████| 4/4 [00:00<00:00, 2930.52it/s]\n",
      "100%|██████████████████████████████████████████████████████████████████████████████| 4/4 [00:00<00:00, 3127.16it/s]\n",
      "100%|██████████████████████████████████████████████████████████████████████████████| 4/4 [00:00<00:00, 3675.99it/s]\n",
      "100%|██████████████████████████████████████████████████████████████████████████████| 4/4 [00:00<00:00, 3868.39it/s]\n",
      "100%|██████████████████████████████████████████████████████████████████████████████| 4/4 [00:00<00:00, 3776.95it/s]\n",
      "100%|██████████████████████████████████████████████████████████████████████████████| 4/4 [00:00<00:00, 3583.34it/s]\n"
     ]
    }
   ],
   "source": [
    "final_df = smart_repair(final_df, min_rook_length=30)"
   ]
  },
  {
   "cell_type": "code",
   "execution_count": 13,
   "id": "52d72b01-f7fa-4322-ab8d-b55123042c7f",
   "metadata": {},
   "outputs": [
    {
     "name": "stderr",
     "output_type": "stream",
     "text": [
      "100%|████████████████████████████████████████████████████████████████████████| 1489/1489 [00:01<00:00, 1322.54it/s]\n"
     ]
    },
    {
     "data": {
      "text/plain": [
       "True"
      ]
     },
     "execution_count": 13,
     "metadata": {},
     "output_type": "execute_result"
    }
   ],
   "source": [
    "maup.doctor(final_df)"
   ]
  },
  {
   "cell_type": "markdown",
   "id": "d9d8df44-dc34-4e38-ab6c-c48f5615e9b2",
   "metadata": {},
   "source": [
    "## Put data in the same geometry unit"
   ]
  },
  {
   "cell_type": "code",
   "execution_count": 14,
   "id": "af750f83-d389-47d6-98bc-86322e4692b0",
   "metadata": {},
   "outputs": [
    {
     "name": "stderr",
     "output_type": "stream",
     "text": [
      "100%|█████████████████████████████████████████████████████████████████████████| 1489/1489 [00:01<00:00, 804.39it/s]\n",
      "100%|█████████████████████████████████████████████████████████████████████████| 1489/1489 [00:06<00:00, 227.63it/s]\n",
      "100%|█████████████████████████████████████████████████████████████████████████| 1489/1489 [00:02<00:00, 624.60it/s]\n",
      "100%|█████████████████████████████████████████████████████████████████████████| 1489/1489 [00:06<00:00, 226.92it/s]\n"
     ]
    }
   ],
   "source": [
    "blocks_to_precincts_assignment = maup.assign(population_df.geometry, final_df.geometry)\n",
    "vap_blocks_to_precincts_assignment = maup.assign(vap_df.geometry, final_df.geometry)"
   ]
  },
  {
   "cell_type": "code",
   "execution_count": 15,
   "id": "1f153335-51ee-4ced-b807-8c61382d9014",
   "metadata": {},
   "outputs": [
    {
     "data": {
      "text/plain": [
       "Index(['GEOID20', 'SUMLEV', 'LOGRECNO', 'GEOID', 'COUNTY', 'P0020001',\n",
       "       'P0020002', 'P0020003', 'P0020004', 'P0020005', 'P0020006', 'P0020007',\n",
       "       'P0020008', 'P0020009', 'P0020010', 'P0020011', 'P0020012', 'P0020013',\n",
       "       'P0020014', 'P0020015', 'P0020016', 'P0020017', 'P0020018', 'P0020019',\n",
       "       'P0020020', 'P0020021', 'P0020022', 'P0020023', 'P0020024', 'P0020025',\n",
       "       'P0020026', 'P0020027', 'P0020028', 'P0020029', 'P0020030', 'P0020031',\n",
       "       'P0020032', 'P0020033', 'P0020034', 'P0020035', 'P0020036', 'P0020037',\n",
       "       'P0020038', 'P0020039', 'P0020040', 'P0020041', 'P0020042', 'P0020043',\n",
       "       'P0020044', 'P0020045', 'P0020046', 'P0020047', 'P0020048', 'P0020049',\n",
       "       'P0020050', 'P0020051', 'P0020052', 'P0020053', 'P0020054', 'P0020055',\n",
       "       'P0020056', 'P0020057', 'P0020058', 'P0020059', 'P0020060', 'P0020061',\n",
       "       'P0020062', 'P0020063', 'P0020064', 'P0020065', 'P0020066', 'P0020067',\n",
       "       'P0020068', 'P0020069', 'P0020070', 'P0020071', 'P0020072', 'P0020073',\n",
       "       'geometry'],\n",
       "      dtype='object')"
      ]
     },
     "execution_count": 15,
     "metadata": {},
     "output_type": "execute_result"
    }
   ],
   "source": [
    "population_df.columns"
   ]
  },
  {
   "cell_type": "markdown",
   "id": "ef87a90e-ca94-45e8-aaa4-90c8761225cd",
   "metadata": {},
   "source": [
    "### Naming reference\n",
    "#### Total population\n",
    "Total: P0020001  \n",
    "Hispanic or Latino: P0020002  \n",
    "Not Hispanic or Latino: P0020003  \n",
    "Population of one race: P0020004  \n",
    "White alone: P0020005  \n",
    "Black or African American alone: P0020006  \n",
    "American Indian and Alaska Native alone: P0020007  \n",
    "Asian alone: P0020008  \n",
    "Native Hawaiian and Other Pacific Islander alone: P0020009  \n",
    "Some Other Race alone: P0020010  \n",
    "#### voting age population\n",
    "Total: P0040001  \n",
    "Hispanic or Latino: P0040002  \n",
    "Not Hispanic or Latino: P0040003  \n",
    "Population of one race: P0040004  \n",
    "White alone: P0040005  \n",
    "Black or African American alone: P0040006  \n",
    "American Indian and Alaska Native alone: P0040007  \n",
    "Asian alone: P0040008  \n",
    "Native Hawaiian and Other Pacific Islander alone: P0040009  \n",
    "Some Other Race alone: P0040010  "
   ]
  },
  {
   "cell_type": "code",
   "execution_count": 16,
   "id": "22a84f7a-2dda-4e12-b1de-6563dda918a7",
   "metadata": {},
   "outputs": [],
   "source": [
    "# The columns we are interested in\n",
    "pop_column_names = ['P0020001',\n",
    "       'P0020002', 'P0020003', 'P0020004', 'P0020005', 'P0020006', 'P0020007',\n",
    "       'P0020008', 'P0020009', 'P0020010']"
   ]
  },
  {
   "cell_type": "code",
   "execution_count": 17,
   "id": "f59648e4-cc8d-427f-9acf-f59c92aedbad",
   "metadata": {},
   "outputs": [
    {
     "data": {
      "text/plain": [
       "Index(['GEOID20', 'SUMLEV', 'LOGRECNO', 'GEOID', 'COUNTY', 'P0040001',\n",
       "       'P0040002', 'P0040003', 'P0040004', 'P0040005', 'P0040006', 'P0040007',\n",
       "       'P0040008', 'P0040009', 'P0040010', 'P0040011', 'P0040012', 'P0040013',\n",
       "       'P0040014', 'P0040015', 'P0040016', 'P0040017', 'P0040018', 'P0040019',\n",
       "       'P0040020', 'P0040021', 'P0040022', 'P0040023', 'P0040024', 'P0040025',\n",
       "       'P0040026', 'P0040027', 'P0040028', 'P0040029', 'P0040030', 'P0040031',\n",
       "       'P0040032', 'P0040033', 'P0040034', 'P0040035', 'P0040036', 'P0040037',\n",
       "       'P0040038', 'P0040039', 'P0040040', 'P0040041', 'P0040042', 'P0040043',\n",
       "       'P0040044', 'P0040045', 'P0040046', 'P0040047', 'P0040048', 'P0040049',\n",
       "       'P0040050', 'P0040051', 'P0040052', 'P0040053', 'P0040054', 'P0040055',\n",
       "       'P0040056', 'P0040057', 'P0040058', 'P0040059', 'P0040060', 'P0040061',\n",
       "       'P0040062', 'P0040063', 'P0040064', 'P0040065', 'P0040066', 'P0040067',\n",
       "       'P0040068', 'P0040069', 'P0040070', 'P0040071', 'P0040072', 'P0040073',\n",
       "       'geometry'],\n",
       "      dtype='object')"
      ]
     },
     "execution_count": 17,
     "metadata": {},
     "output_type": "execute_result"
    }
   ],
   "source": [
    "vap_df.columns"
   ]
  },
  {
   "cell_type": "code",
   "execution_count": 18,
   "id": "44af1f09-0cd8-42cb-9193-f1318e26d424",
   "metadata": {},
   "outputs": [],
   "source": [
    "vap_column_names = ['P0040001', 'P0040002', 'P0040005', 'P0040006', 'P0040007',\n",
    "                    'P0040008', 'P0040009', 'P0040010']"
   ]
  },
  {
   "cell_type": "code",
   "execution_count": 19,
   "id": "8f8e1142-6dc4-461d-b4f8-715ac7790ce4",
   "metadata": {},
   "outputs": [],
   "source": [
    "for name in pop_column_names:\n",
    "    final_df[name] = population_df[name].groupby(blocks_to_precincts_assignment).sum()\n",
    "for name in vap_column_names:\n",
    "    final_df[name] = vap_df[name].groupby(vap_blocks_to_precincts_assignment).sum()"
   ]
  },
  {
   "cell_type": "code",
   "execution_count": 20,
   "id": "323cb765-d2d2-4b32-be20-9dc959000903",
   "metadata": {},
   "outputs": [
    {
     "name": "stdout",
     "output_type": "stream",
     "text": [
      "7151502\n",
      "7151502\n",
      "5541976\n",
      "5541976\n"
     ]
    }
   ],
   "source": [
    "# Check if the data matches\n",
    "print(population_df['P0020001'].sum())\n",
    "print(final_df['P0020001'].sum())\n",
    "print(vap_df['P0040001'].sum())\n",
    "print(final_df['P0040001'].sum())"
   ]
  },
  {
   "cell_type": "code",
   "execution_count": 21,
   "id": "c6af4ac1-1856-4228-8825-337ab95c925c",
   "metadata": {},
   "outputs": [
    {
     "data": {
      "text/plain": [
       "Index(['CDE_COUNTY', 'PCTNUM', 'PRECINCTNA', 'G20PREDBID', 'G20PRERTRU',\n",
       "       'G20PRELJOR', 'G20USSDKEL', 'G20USSRMCS', 'geometry', 'P0020001',\n",
       "       'P0020002', 'P0020003', 'P0020004', 'P0020005', 'P0020006', 'P0020007',\n",
       "       'P0020008', 'P0020009', 'P0020010', 'P0040001', 'P0040002', 'P0040005',\n",
       "       'P0040006', 'P0040007', 'P0040008', 'P0040009', 'P0040010'],\n",
       "      dtype='object')"
      ]
     },
     "execution_count": 21,
     "metadata": {},
     "output_type": "execute_result"
    }
   ],
   "source": [
    "final_df.columns"
   ]
  },
  {
   "cell_type": "markdown",
   "id": "40bc550d-ce52-4eb2-9a64-d88227a6572b",
   "metadata": {},
   "source": [
    "The new column names below follow the conventions used [at MGGG-states](https://github.com/mggg-states) and [eveomett-states](https://github.com/eveomett-states).  Some of these columns are in the election dataframe, some in the population and vap dataframes.\n",
    "\n",
    "We'll drop the columns that we're not interested in (including non-Democratic and non-Republican votes)."
   ]
  },
  {
   "cell_type": "code",
   "execution_count": 34,
   "id": "eeab5b28-11e5-4426-b188-a559173a617b",
   "metadata": {},
   "outputs": [],
   "source": [
    "rename_dict = {'P0020001': 'TOTPOP', 'P0020002': 'HISP', 'P0020005': 'NH_WHITE',\n",
    "               'P0020006': 'NH_BLACK', 'P0020007': 'NH_AMIN', 'P0020008': 'NH_ASIAN', \n",
    "               'P0020009': 'NH_NHPI', 'P0020010': 'NH_OTHER', 'P0040001': 'VAP', 'P0040002': 'HVAP', \n",
    "               'P0040005': 'WVAP', 'P0040006': 'BVAP', 'P0040007': 'AMINVAP', 'P0040008': 'ASIANVAP', \n",
    "               'P0040009': 'NHPIVAP', 'P0040010': 'OTHERVAP', 'G20PREDBID': 'G20PRED', \n",
    "               'G20PRERTRU': 'G20PRER', 'G20USSDKEL': 'G20USSD', 'G20USSRMCS': 'G20USSR'}"
   ]
  },
  {
   "cell_type": "code",
   "execution_count": 35,
   "id": "03c2171f-10b1-4387-82dd-e161a4d305df",
   "metadata": {},
   "outputs": [],
   "source": [
    "final_df.rename(columns=rename_dict, inplace = True)"
   ]
  },
  {
   "cell_type": "code",
   "execution_count": 36,
   "id": "fbf5be4d-14e5-4471-8588-2b1bac501c2f",
   "metadata": {},
   "outputs": [
    {
     "data": {
      "text/plain": [
       "Index(['CDE_COUNTY', 'PCTNUM', 'PRECINCTNA', 'G20PRED', 'G20PRER', 'G20USSD',\n",
       "       'G20USSR', 'geometry', 'TOTPOP', 'HISP', 'NH_WHITE', 'NH_BLACK',\n",
       "       'NH_AMIN', 'NH_ASIAN', 'NH_NHPI', 'NH_OTHER', 'VAP', 'HVAP', 'WVAP',\n",
       "       'BVAP', 'AMINVAP', 'ASIANVAP', 'NHPIVAP', 'OTHERVAP'],\n",
       "      dtype='object')"
      ]
     },
     "execution_count": 36,
     "metadata": {},
     "output_type": "execute_result"
    }
   ],
   "source": [
    "final_df.columns"
   ]
  },
  {
   "cell_type": "code",
   "execution_count": 38,
   "id": "6cbdcbfb-0dee-478c-af65-e5d1100cea0f",
   "metadata": {},
   "outputs": [
    {
     "data": {
      "text/plain": [
       "Index(['CDE_COUNTY', 'PCTNUM', 'PRECINCTNA', 'G20PRED', 'G20PRER', 'G20USSD',\n",
       "       'G20USSR', 'geometry', 'TOTPOP', 'HISP', 'NH_WHITE', 'NH_BLACK',\n",
       "       'NH_AMIN', 'NH_ASIAN', 'NH_NHPI', 'NH_OTHER', 'VAP', 'HVAP', 'WVAP',\n",
       "       'BVAP', 'AMINVAP', 'ASIANVAP', 'NHPIVAP', 'OTHERVAP'],\n",
       "      dtype='object')"
      ]
     },
     "execution_count": 38,
     "metadata": {},
     "output_type": "execute_result"
    }
   ],
   "source": [
    "# Drop the columns we don't need\n",
    "final_df.drop(columns=[ 'G20PRELJOR', 'P0020003', 'P0020004'], inplace=True)\n",
    "final_df.columns"
   ]
  },
  {
   "cell_type": "code",
   "execution_count": 27,
   "id": "7a6f92d5-6543-4c82-b9ca-8bbc1eb9f643",
   "metadata": {},
   "outputs": [
    {
     "data": {
      "text/plain": [
       "Index(['GEOID20', 'SUMLEV', 'LOGRECNO', 'GEOID', 'COUNTY', 'VAP', 'HVAP',\n",
       "       'P0040003', 'P0040004', 'WVAP', 'BVAP', 'AMINVAP', 'ASIANVAP',\n",
       "       'NHPIVAP', 'OTHERVAP', 'P0040011', 'P0040012', 'P0040013', 'P0040014',\n",
       "       'P0040015', 'P0040016', 'P0040017', 'P0040018', 'P0040019', 'P0040020',\n",
       "       'P0040021', 'P0040022', 'P0040023', 'P0040024', 'P0040025', 'P0040026',\n",
       "       'P0040027', 'P0040028', 'P0040029', 'P0040030', 'P0040031', 'P0040032',\n",
       "       'P0040033', 'P0040034', 'P0040035', 'P0040036', 'P0040037', 'P0040038',\n",
       "       'P0040039', 'P0040040', 'P0040041', 'P0040042', 'P0040043', 'P0040044',\n",
       "       'P0040045', 'P0040046', 'P0040047', 'P0040048', 'P0040049', 'P0040050',\n",
       "       'P0040051', 'P0040052', 'P0040053', 'P0040054', 'P0040055', 'P0040056',\n",
       "       'P0040057', 'P0040058', 'P0040059', 'P0040060', 'P0040061', 'P0040062',\n",
       "       'P0040063', 'P0040064', 'P0040065', 'P0040066', 'P0040067', 'P0040068',\n",
       "       'P0040069', 'P0040070', 'P0040071', 'P0040072', 'P0040073', 'geometry'],\n",
       "      dtype='object')"
      ]
     },
     "execution_count": 27,
     "metadata": {},
     "output_type": "execute_result"
    }
   ],
   "source": [
    "vap_df.rename(columns=rename_dict, inplace = True)\n",
    "vap_df.columns"
   ]
  },
  {
   "cell_type": "markdown",
   "id": "f3295c96-d12f-4029-aef0-8d7e07a5a99b",
   "metadata": {},
   "source": [
    "# Add 2018 election data"
   ]
  },
  {
   "cell_type": "code",
   "execution_count": 29,
   "id": "5b3607da-f48c-472f-947d-2ad29a9fe485",
   "metadata": {},
   "outputs": [],
   "source": [
    "vest18_df = gpd.read_file(\"../data/arizona/az_vest_18/az_vest_18.shp\")"
   ]
  },
  {
   "cell_type": "code",
   "execution_count": 30,
   "id": "44864ffb-edc0-40ee-a0df-bbeecd7d74b0",
   "metadata": {},
   "outputs": [
    {
     "data": {
      "text/plain": [
       "Index(['CDE_COUNTY', 'PCTNUM', 'PRECINCTNA', 'G18USSRMCS', 'G18USSDSIN',\n",
       "       'G18USSGGRE', 'G18USSOWRI', 'G18GOVRDUC', 'G18GOVDGAR', 'G18GOVGTOR',\n",
       "       'G18GOVOWRI', 'G18SOSRGAY', 'G18SOSDHOB', 'G18SOSOWRI', 'G18ATGRBRN',\n",
       "       'G18ATGDCON', 'G18ATGOWRI', 'G18TRERYEE', 'G18TREDMAN', 'G18TREOWRI',\n",
       "       'G18SPIRRIG', 'G18SPIDHOF', 'G18SPIOWRI', 'G18MNIRHAR', 'G18MNIDPIE',\n",
       "       'G18MNIOWRI', 'geometry'],\n",
       "      dtype='object')"
      ]
     },
     "execution_count": 30,
     "metadata": {},
     "output_type": "execute_result"
    }
   ],
   "source": [
    "vest18_df.columns"
   ]
  },
  {
   "cell_type": "code",
   "execution_count": 39,
   "id": "d49049e4-6b9b-4d34-a6fd-f99cfb4623a5",
   "metadata": {},
   "outputs": [],
   "source": [
    "rename_18_dict = {'G18USSRMCS': 'G18USSR', 'G18USSDSIN': 'G18USSD', 'G18GOVRDUC': 'G18GOVR', \n",
    "                  'G18GOVDGAR': 'G18GOVD', 'G18SOSRGAY': 'G18SOSR', 'G18SOSDHOB': 'G18SOSD', \n",
    "                  'G18ATGRBRN': 'G18ATGR', 'G18ATGDCON': 'G18ATGD', 'G18TRERYEE': 'G18TRER', \n",
    "                  'G18TREDMAN': 'G18TRED', 'G18SPIRRIG': 'G18SPIR', 'G18SPIDHOF': 'G18SPID', \n",
    "                  'G18MNIRHAR': 'G18MNIR', 'G18MNIDPIE': 'G18MNID'}"
   ]
  },
  {
   "cell_type": "code",
   "execution_count": 40,
   "id": "00505e31-32a0-4fc2-af03-04a6f71bd109",
   "metadata": {},
   "outputs": [
    {
     "data": {
      "text/plain": [
       "Index(['CDE_COUNTY', 'PCTNUM', 'PRECINCTNA', 'G18USSR', 'G18USSD',\n",
       "       'G18USSGGRE', 'G18USSOWRI', 'G18GOVR', 'G18GOVD', 'G18GOVGTOR',\n",
       "       'G18GOVOWRI', 'G18SOSR', 'G18SOSD', 'G18SOSOWRI', 'G18ATGR', 'G18ATGD',\n",
       "       'G18ATGOWRI', 'G18TRER', 'G18TRED', 'G18TREOWRI', 'G18SPIR', 'G18SPID',\n",
       "       'G18SPIOWRI', 'G18MNIR', 'G18MNID', 'G18MNIOWRI', 'geometry'],\n",
       "      dtype='object')"
      ]
     },
     "execution_count": 40,
     "metadata": {},
     "output_type": "execute_result"
    }
   ],
   "source": [
    "vest18_df.rename(columns=rename_18_dict, inplace = True)\n",
    "vest18_df.columns"
   ]
  },
  {
   "cell_type": "code",
   "execution_count": 41,
   "id": "30b7b7b1-989e-4676-a4aa-085def2120ad",
   "metadata": {},
   "outputs": [
    {
     "data": {
      "text/plain": [
       "Index(['CDE_COUNTY', 'PCTNUM', 'PRECINCTNA', 'G18USSR', 'G18USSD', 'G18GOVR',\n",
       "       'G18GOVD', 'G18SOSR', 'G18SOSD', 'G18ATGR', 'G18ATGD', 'G18TRER',\n",
       "       'G18TRED', 'G18SPIR', 'G18SPID', 'G18MNIR', 'G18MNID', 'geometry'],\n",
       "      dtype='object')"
      ]
     },
     "execution_count": 41,
     "metadata": {},
     "output_type": "execute_result"
    }
   ],
   "source": [
    "vest18_df.drop(columns=['G18USSGGRE', 'G18USSOWRI', 'G18GOVGTOR', 'G18GOVOWRI', 'G18SOSOWRI', \n",
    "                       'G18ATGOWRI', 'G18TREOWRI', 'G18SPIOWRI', 'G18MNIOWRI'], inplace=True)\n",
    "vest18_df.columns"
   ]
  },
  {
   "cell_type": "code",
   "execution_count": 42,
   "id": "7e7a0a90-770c-47ae-84a3-addbf64b904b",
   "metadata": {},
   "outputs": [],
   "source": [
    "elec2018_cols = ['G18USSR', 'G18USSD', 'G18GOVR', 'G18GOVD', 'G18SOSR', 'G18SOSD', \n",
    "                 'G18ATGR', 'G18ATGD', 'G18TRER', 'G18TRED', 'G18SPIR', 'G18SPID', \n",
    "                 'G18MNIR', 'G18MNID']"
   ]
  },
  {
   "cell_type": "markdown",
   "id": "8d1701f5-683b-4818-a46d-974357186e9c",
   "metadata": {},
   "source": [
    "#### Check if the data is clean"
   ]
  },
  {
   "cell_type": "code",
   "execution_count": 43,
   "id": "1f23085b-1c46-45de-831f-f1b5362cdeda",
   "metadata": {},
   "outputs": [],
   "source": [
    "vest18_df = vest18_df.to_crs(vest18_df.estimate_utm_crs())"
   ]
  },
  {
   "cell_type": "code",
   "execution_count": 44,
   "id": "a681ca8f-7191-407f-9bf7-a2ef61186d03",
   "metadata": {},
   "outputs": [
    {
     "name": "stderr",
     "output_type": "stream",
     "text": [
      "100%|████████████████████████████████████████████████████████████████████████| 1489/1489 [00:01<00:00, 1449.19it/s]\n"
     ]
    },
    {
     "name": "stdout",
     "output_type": "stream",
     "text": [
      "There are 426 overlaps.\n",
      "There are 5023 holes.\n"
     ]
    },
    {
     "data": {
      "text/plain": [
       "False"
      ]
     },
     "execution_count": 44,
     "metadata": {},
     "output_type": "execute_result"
    }
   ],
   "source": [
    "maup.doctor(vest18_df)"
   ]
  },
  {
   "cell_type": "code",
   "execution_count": 45,
   "id": "89b5c110-0cc2-44c0-bff4-1ffd223ea59b",
   "metadata": {},
   "outputs": [
    {
     "name": "stdout",
     "output_type": "stream",
     "text": [
      "Snapping all geometries to a grid with precision 10^( -5 ) to avoid GEOS errors.\n",
      "Identifying overlaps...\n"
     ]
    },
    {
     "name": "stderr",
     "output_type": "stream",
     "text": [
      "100%|██████████████████████████████████████████████████████████████████████| 11803/11803 [00:04<00:00, 2640.57it/s]\n"
     ]
    },
    {
     "name": "stdout",
     "output_type": "stream",
     "text": [
      "Resolving overlaps...\n",
      "Assigning order 2 pieces...\n",
      "Assigning order 3 pieces...\n",
      "Filling gaps...\n"
     ]
    },
    {
     "name": "stderr",
     "output_type": "stream",
     "text": [
      "Gaps to simplify: 100%|████████████████████████████████████████████████████████| 5124/5124 [07:59<00:00, 10.68it/s]\n",
      "Gaps to fill: 100%|██████████████████████████████████████████████████████████████| 145/145 [00:15<00:00,  9.13it/s]\n"
     ]
    }
   ],
   "source": [
    "vest18_df = smart_repair(vest18_df)"
   ]
  },
  {
   "cell_type": "code",
   "execution_count": 46,
   "id": "499fbb76-3c41-4a61-8491-8f251f3965ec",
   "metadata": {},
   "outputs": [
    {
     "name": "stderr",
     "output_type": "stream",
     "text": [
      "100%|████████████████████████████████████████████████████████████████████████| 1489/1489 [00:01<00:00, 1380.27it/s]\n"
     ]
    },
    {
     "data": {
      "text/plain": [
       "True"
      ]
     },
     "execution_count": 46,
     "metadata": {},
     "output_type": "execute_result"
    }
   ],
   "source": [
    "maup.doctor(vest18_df)"
   ]
  },
  {
   "cell_type": "code",
   "execution_count": 47,
   "id": "cf1cb9cb-e6f4-4b0a-ba8d-ea49e2a7ea97",
   "metadata": {},
   "outputs": [
    {
     "name": "stderr",
     "output_type": "stream",
     "text": [
      "100%|█████████████████████████████████████████████████████████████████████████| 1489/1489 [00:03<00:00, 411.83it/s]\n",
      "100%|█████████████████████████████████████████████████████████████████████████| 1489/1489 [00:06<00:00, 247.54it/s]\n"
     ]
    }
   ],
   "source": [
    "blocks_to_2018precincts_assignment = maup.assign(population_df.geometry, vest18_df.geometry)"
   ]
  },
  {
   "cell_type": "code",
   "execution_count": 48,
   "id": "9f63036f-d72c-41e0-a371-ed240beb8835",
   "metadata": {},
   "outputs": [],
   "source": [
    "weights2018 = vap_df[\"VAP\"]/blocks_to_2018precincts_assignment.map(vap_df[\"VAP\"].groupby(blocks_to_2018precincts_assignment).sum())\n",
    "weights2018 = weights2018.fillna(0)"
   ]
  },
  {
   "cell_type": "code",
   "execution_count": 49,
   "id": "c64ecf04-4937-4ffb-b4e2-16a2dad53556",
   "metadata": {},
   "outputs": [
    {
     "data": {
      "text/html": [
       "<div>\n",
       "<style scoped>\n",
       "    .dataframe tbody tr th:only-of-type {\n",
       "        vertical-align: middle;\n",
       "    }\n",
       "\n",
       "    .dataframe tbody tr th {\n",
       "        vertical-align: top;\n",
       "    }\n",
       "\n",
       "    .dataframe thead th {\n",
       "        text-align: right;\n",
       "    }\n",
       "</style>\n",
       "<table border=\"1\" class=\"dataframe\">\n",
       "  <thead>\n",
       "    <tr style=\"text-align: right;\">\n",
       "      <th></th>\n",
       "      <th>CDE_COUNTY</th>\n",
       "      <th>PCTNUM</th>\n",
       "      <th>PRECINCTNA</th>\n",
       "      <th>G20PRED</th>\n",
       "      <th>G20PRER</th>\n",
       "      <th>G20USSD</th>\n",
       "      <th>G20USSR</th>\n",
       "      <th>geometry</th>\n",
       "      <th>TOTPOP</th>\n",
       "      <th>HISP</th>\n",
       "      <th>...</th>\n",
       "      <th>G18SOSR</th>\n",
       "      <th>G18SOSD</th>\n",
       "      <th>G18ATGR</th>\n",
       "      <th>G18ATGD</th>\n",
       "      <th>G18TRER</th>\n",
       "      <th>G18TRED</th>\n",
       "      <th>G18SPIR</th>\n",
       "      <th>G18SPID</th>\n",
       "      <th>G18MNIR</th>\n",
       "      <th>G18MNID</th>\n",
       "    </tr>\n",
       "  </thead>\n",
       "  <tbody>\n",
       "    <tr>\n",
       "      <th>0</th>\n",
       "      <td>AP</td>\n",
       "      <td>AP0002</td>\n",
       "      <td>ALPINE</td>\n",
       "      <td>94</td>\n",
       "      <td>283</td>\n",
       "      <td>98</td>\n",
       "      <td>284</td>\n",
       "      <td>POLYGON ((639562.612 3724697.476, 639542.675 3...</td>\n",
       "      <td>664</td>\n",
       "      <td>77</td>\n",
       "      <td>...</td>\n",
       "      <td>23.776309</td>\n",
       "      <td>17.380783</td>\n",
       "      <td>24.340620</td>\n",
       "      <td>16.440264</td>\n",
       "      <td>25.055414</td>\n",
       "      <td>15.386884</td>\n",
       "      <td>23.211998</td>\n",
       "      <td>16.929334</td>\n",
       "      <td>23.550585</td>\n",
       "      <td>15.537367</td>\n",
       "    </tr>\n",
       "    <tr>\n",
       "      <th>1</th>\n",
       "      <td>AP</td>\n",
       "      <td>AP0003</td>\n",
       "      <td>CANYON DE CHELLY</td>\n",
       "      <td>1982</td>\n",
       "      <td>273</td>\n",
       "      <td>1995</td>\n",
       "      <td>290</td>\n",
       "      <td>POLYGON ((615284.521 4013717.601, 615291.241 4...</td>\n",
       "      <td>4666</td>\n",
       "      <td>40</td>\n",
       "      <td>...</td>\n",
       "      <td>7.781710</td>\n",
       "      <td>2.757323</td>\n",
       "      <td>7.887881</td>\n",
       "      <td>2.557472</td>\n",
       "      <td>8.034647</td>\n",
       "      <td>2.348253</td>\n",
       "      <td>7.544387</td>\n",
       "      <td>2.832268</td>\n",
       "      <td>7.694275</td>\n",
       "      <td>2.466914</td>\n",
       "    </tr>\n",
       "    <tr>\n",
       "      <th>2</th>\n",
       "      <td>AP</td>\n",
       "      <td>AP0005</td>\n",
       "      <td>CHINLE</td>\n",
       "      <td>989</td>\n",
       "      <td>148</td>\n",
       "      <td>994</td>\n",
       "      <td>157</td>\n",
       "      <td>POLYGON ((630269.897 3994902.053, 630183.481 3...</td>\n",
       "      <td>2949</td>\n",
       "      <td>62</td>\n",
       "      <td>...</td>\n",
       "      <td>7.609556</td>\n",
       "      <td>2.895642</td>\n",
       "      <td>7.871251</td>\n",
       "      <td>2.647541</td>\n",
       "      <td>7.993603</td>\n",
       "      <td>2.423231</td>\n",
       "      <td>7.419232</td>\n",
       "      <td>2.902439</td>\n",
       "      <td>7.585766</td>\n",
       "      <td>2.559176</td>\n",
       "    </tr>\n",
       "    <tr>\n",
       "      <th>3</th>\n",
       "      <td>AP</td>\n",
       "      <td>AP0009</td>\n",
       "      <td>CONCHO</td>\n",
       "      <td>333</td>\n",
       "      <td>1486</td>\n",
       "      <td>381</td>\n",
       "      <td>1422</td>\n",
       "      <td>POLYGON ((633859.681 3816946.040, 633860.598 3...</td>\n",
       "      <td>2945</td>\n",
       "      <td>279</td>\n",
       "      <td>...</td>\n",
       "      <td>37.796742</td>\n",
       "      <td>23.436773</td>\n",
       "      <td>38.657874</td>\n",
       "      <td>22.389449</td>\n",
       "      <td>40.077580</td>\n",
       "      <td>20.248254</td>\n",
       "      <td>36.167572</td>\n",
       "      <td>23.739333</td>\n",
       "      <td>37.145074</td>\n",
       "      <td>21.295578</td>\n",
       "    </tr>\n",
       "    <tr>\n",
       "      <th>4</th>\n",
       "      <td>AP</td>\n",
       "      <td>AP0011</td>\n",
       "      <td>COTTONWOOD</td>\n",
       "      <td>748</td>\n",
       "      <td>87</td>\n",
       "      <td>763</td>\n",
       "      <td>85</td>\n",
       "      <td>POLYGON ((622628.308 3987911.500, 622654.410 3...</td>\n",
       "      <td>1529</td>\n",
       "      <td>15</td>\n",
       "      <td>...</td>\n",
       "      <td>10.705221</td>\n",
       "      <td>4.138153</td>\n",
       "      <td>11.042570</td>\n",
       "      <td>3.778313</td>\n",
       "      <td>11.087550</td>\n",
       "      <td>3.575904</td>\n",
       "      <td>10.030522</td>\n",
       "      <td>4.363052</td>\n",
       "      <td>10.435341</td>\n",
       "      <td>3.958233</td>\n",
       "    </tr>\n",
       "  </tbody>\n",
       "</table>\n",
       "<p>5 rows × 38 columns</p>\n",
       "</div>"
      ],
      "text/plain": [
       "  CDE_COUNTY  PCTNUM        PRECINCTNA  G20PRED  G20PRER  G20USSD  G20USSR  \\\n",
       "0         AP  AP0002            ALPINE       94      283       98      284   \n",
       "1         AP  AP0003  CANYON DE CHELLY     1982      273     1995      290   \n",
       "2         AP  AP0005            CHINLE      989      148      994      157   \n",
       "3         AP  AP0009            CONCHO      333     1486      381     1422   \n",
       "4         AP  AP0011        COTTONWOOD      748       87      763       85   \n",
       "\n",
       "                                            geometry  TOTPOP  HISP  ...  \\\n",
       "0  POLYGON ((639562.612 3724697.476, 639542.675 3...     664    77  ...   \n",
       "1  POLYGON ((615284.521 4013717.601, 615291.241 4...    4666    40  ...   \n",
       "2  POLYGON ((630269.897 3994902.053, 630183.481 3...    2949    62  ...   \n",
       "3  POLYGON ((633859.681 3816946.040, 633860.598 3...    2945   279  ...   \n",
       "4  POLYGON ((622628.308 3987911.500, 622654.410 3...    1529    15  ...   \n",
       "\n",
       "     G18SOSR    G18SOSD    G18ATGR    G18ATGD    G18TRER    G18TRED  \\\n",
       "0  23.776309  17.380783  24.340620  16.440264  25.055414  15.386884   \n",
       "1   7.781710   2.757323   7.887881   2.557472   8.034647   2.348253   \n",
       "2   7.609556   2.895642   7.871251   2.647541   7.993603   2.423231   \n",
       "3  37.796742  23.436773  38.657874  22.389449  40.077580  20.248254   \n",
       "4  10.705221   4.138153  11.042570   3.778313  11.087550   3.575904   \n",
       "\n",
       "     G18SPIR    G18SPID    G18MNIR    G18MNID  \n",
       "0  23.211998  16.929334  23.550585  15.537367  \n",
       "1   7.544387   2.832268   7.694275   2.466914  \n",
       "2   7.419232   2.902439   7.585766   2.559176  \n",
       "3  36.167572  23.739333  37.145074  21.295578  \n",
       "4  10.030522   4.363052  10.435341   3.958233  \n",
       "\n",
       "[5 rows x 38 columns]"
      ]
     },
     "execution_count": 49,
     "metadata": {},
     "output_type": "execute_result"
    }
   ],
   "source": [
    "prorated2018 = maup.prorate(blocks_to_2018precincts_assignment, vest18_df[elec2018_cols], weights2018)\n",
    "final_df[elec2018_cols] = prorated2018\n",
    "final_df.head()"
   ]
  },
  {
   "cell_type": "markdown",
   "id": "f76448a2-3bdd-42cc-a000-9af1e5904dbe",
   "metadata": {},
   "source": [
    "# Add senate district data"
   ]
  },
  {
   "cell_type": "code",
   "execution_count": 50,
   "id": "a6a97526-f332-4676-86d8-cde65fd98a9d",
   "metadata": {},
   "outputs": [
    {
     "name": "stderr",
     "output_type": "stream",
     "text": [
      "100%|█████████████████████████████████████████████████████████████████████████████| 30/30 [00:00<00:00, 131.80it/s]\n",
      "100%|██████████████████████████████████████████████████████████████████████████████| 30/30 [00:01<00:00, 29.10it/s]\n"
     ]
    }
   ],
   "source": [
    "precincts_to_districts_assignment = maup.assign(final_df.geometry, sen_df.geometry)\n",
    "final_df[\"SEND\"] = precincts_to_districts_assignment"
   ]
  },
  {
   "cell_type": "code",
   "execution_count": 51,
   "id": "58a62cde-bede-451b-931b-01caf59ee493",
   "metadata": {},
   "outputs": [
    {
     "data": {
      "text/plain": [
       "0        7\n",
       "1        7\n",
       "2        7\n",
       "3        7\n",
       "4        7\n",
       "        ..\n",
       "1484     5\n",
       "1485     5\n",
       "1486     2\n",
       "1487    14\n",
       "1488    14\n",
       "Length: 1489, dtype: int64"
      ]
     },
     "execution_count": 51,
     "metadata": {},
     "output_type": "execute_result"
    }
   ],
   "source": [
    "precincts_to_districts_assignment"
   ]
  },
  {
   "cell_type": "code",
   "execution_count": 52,
   "id": "172cc025-f3b3-448f-aaee-32278d4c1e65",
   "metadata": {},
   "outputs": [
    {
     "name": "stdout",
     "output_type": "stream",
     "text": [
      "{0, 1, 2, 3, 4, 5, 6, 7, 8, 9, 10, 11, 12, 13, 14, 15, 16, 17, 18, 19, 20, 21, 22, 23, 24, 25, 26, 27, 28, 29}\n"
     ]
    }
   ],
   "source": [
    "print(set(final_df[\"SEND\"]))"
   ]
  },
  {
   "cell_type": "code",
   "execution_count": 53,
   "id": "1266109f-8215-49fa-856d-b1517e25e3c4",
   "metadata": {},
   "outputs": [
    {
     "data": {
      "text/html": [
       "<div>\n",
       "<style scoped>\n",
       "    .dataframe tbody tr th:only-of-type {\n",
       "        vertical-align: middle;\n",
       "    }\n",
       "\n",
       "    .dataframe tbody tr th {\n",
       "        vertical-align: top;\n",
       "    }\n",
       "\n",
       "    .dataframe thead th {\n",
       "        text-align: right;\n",
       "    }\n",
       "</style>\n",
       "<table border=\"1\" class=\"dataframe\">\n",
       "  <thead>\n",
       "    <tr style=\"text-align: right;\">\n",
       "      <th></th>\n",
       "      <th>STATEFP20</th>\n",
       "      <th>SLDUST20</th>\n",
       "      <th>GEOID20</th>\n",
       "      <th>NAMELSAD20</th>\n",
       "      <th>LSAD20</th>\n",
       "      <th>LSY20</th>\n",
       "      <th>MTFCC20</th>\n",
       "      <th>FUNCSTAT20</th>\n",
       "      <th>ALAND20</th>\n",
       "      <th>AWATER20</th>\n",
       "      <th>...</th>\n",
       "      <th>P0050002</th>\n",
       "      <th>P0050003</th>\n",
       "      <th>P0050004</th>\n",
       "      <th>P0050005</th>\n",
       "      <th>P0050006</th>\n",
       "      <th>P0050007</th>\n",
       "      <th>P0050008</th>\n",
       "      <th>P0050009</th>\n",
       "      <th>P0050010</th>\n",
       "      <th>geometry</th>\n",
       "    </tr>\n",
       "  </thead>\n",
       "  <tbody>\n",
       "    <tr>\n",
       "      <th>0</th>\n",
       "      <td>04</td>\n",
       "      <td>27</td>\n",
       "      <td>04027</td>\n",
       "      <td>State Senate District 27</td>\n",
       "      <td>LU</td>\n",
       "      <td>2018</td>\n",
       "      <td>G5210</td>\n",
       "      <td>N</td>\n",
       "      <td>655807196</td>\n",
       "      <td>1101389</td>\n",
       "      <td>...</td>\n",
       "      <td>7418</td>\n",
       "      <td>6859</td>\n",
       "      <td>31</td>\n",
       "      <td>296</td>\n",
       "      <td>232</td>\n",
       "      <td>2049</td>\n",
       "      <td>0</td>\n",
       "      <td>0</td>\n",
       "      <td>2049</td>\n",
       "      <td>POLYGON ((378273.188 3694294.212, 378353.904 3...</td>\n",
       "    </tr>\n",
       "    <tr>\n",
       "      <th>1</th>\n",
       "      <td>04</td>\n",
       "      <td>17</td>\n",
       "      <td>04017</td>\n",
       "      <td>State Senate District 17</td>\n",
       "      <td>LU</td>\n",
       "      <td>2018</td>\n",
       "      <td>G5210</td>\n",
       "      <td>N</td>\n",
       "      <td>173576990</td>\n",
       "      <td>602393</td>\n",
       "      <td>...</td>\n",
       "      <td>412</td>\n",
       "      <td>0</td>\n",
       "      <td>39</td>\n",
       "      <td>348</td>\n",
       "      <td>25</td>\n",
       "      <td>917</td>\n",
       "      <td>48</td>\n",
       "      <td>0</td>\n",
       "      <td>869</td>\n",
       "      <td>POLYGON ((416797.879 3683920.544, 416888.862 3...</td>\n",
       "    </tr>\n",
       "    <tr>\n",
       "      <th>2</th>\n",
       "      <td>04</td>\n",
       "      <td>6</td>\n",
       "      <td>04006</td>\n",
       "      <td>State Senate District 6</td>\n",
       "      <td>LU</td>\n",
       "      <td>2018</td>\n",
       "      <td>G5210</td>\n",
       "      <td>N</td>\n",
       "      <td>26356707935</td>\n",
       "      <td>116179805</td>\n",
       "      <td>...</td>\n",
       "      <td>1614</td>\n",
       "      <td>1109</td>\n",
       "      <td>23</td>\n",
       "      <td>476</td>\n",
       "      <td>6</td>\n",
       "      <td>11997</td>\n",
       "      <td>9829</td>\n",
       "      <td>0</td>\n",
       "      <td>2168</td>\n",
       "      <td>POLYGON ((340621.665 3913569.014, 340632.119 3...</td>\n",
       "    </tr>\n",
       "    <tr>\n",
       "      <th>3</th>\n",
       "      <td>04</td>\n",
       "      <td>20</td>\n",
       "      <td>04020</td>\n",
       "      <td>State Senate District 20</td>\n",
       "      <td>LU</td>\n",
       "      <td>2018</td>\n",
       "      <td>G5210</td>\n",
       "      <td>N</td>\n",
       "      <td>112450839</td>\n",
       "      <td>259281</td>\n",
       "      <td>...</td>\n",
       "      <td>900</td>\n",
       "      <td>0</td>\n",
       "      <td>76</td>\n",
       "      <td>824</td>\n",
       "      <td>0</td>\n",
       "      <td>2142</td>\n",
       "      <td>1196</td>\n",
       "      <td>0</td>\n",
       "      <td>946</td>\n",
       "      <td>POLYGON ((386980.334 3721918.007, 387001.687 3...</td>\n",
       "    </tr>\n",
       "    <tr>\n",
       "      <th>4</th>\n",
       "      <td>04</td>\n",
       "      <td>26</td>\n",
       "      <td>04026</td>\n",
       "      <td>State Senate District 26</td>\n",
       "      <td>LU</td>\n",
       "      <td>2018</td>\n",
       "      <td>G5210</td>\n",
       "      <td>N</td>\n",
       "      <td>312451066</td>\n",
       "      <td>7784490</td>\n",
       "      <td>...</td>\n",
       "      <td>435</td>\n",
       "      <td>130</td>\n",
       "      <td>110</td>\n",
       "      <td>151</td>\n",
       "      <td>44</td>\n",
       "      <td>9138</td>\n",
       "      <td>7624</td>\n",
       "      <td>0</td>\n",
       "      <td>1514</td>\n",
       "      <td>POLYGON ((407401.640 3694192.009, 407402.139 3...</td>\n",
       "    </tr>\n",
       "  </tbody>\n",
       "</table>\n",
       "<p>5 rows × 338 columns</p>\n",
       "</div>"
      ],
      "text/plain": [
       "  STATEFP20  SLDUST20 GEOID20                NAMELSAD20 LSAD20 LSY20 MTFCC20  \\\n",
       "0        04        27   04027  State Senate District 27     LU  2018   G5210   \n",
       "1        04        17   04017  State Senate District 17     LU  2018   G5210   \n",
       "2        04         6   04006   State Senate District 6     LU  2018   G5210   \n",
       "3        04        20   04020  State Senate District 20     LU  2018   G5210   \n",
       "4        04        26   04026  State Senate District 26     LU  2018   G5210   \n",
       "\n",
       "  FUNCSTAT20      ALAND20   AWATER20  ... P0050002 P0050003 P0050004 P0050005  \\\n",
       "0          N    655807196    1101389  ...     7418     6859       31      296   \n",
       "1          N    173576990     602393  ...      412        0       39      348   \n",
       "2          N  26356707935  116179805  ...     1614     1109       23      476   \n",
       "3          N    112450839     259281  ...      900        0       76      824   \n",
       "4          N    312451066    7784490  ...      435      130      110      151   \n",
       "\n",
       "  P0050006 P0050007 P0050008 P0050009 P0050010  \\\n",
       "0      232     2049        0        0     2049   \n",
       "1       25      917       48        0      869   \n",
       "2        6    11997     9829        0     2168   \n",
       "3        0     2142     1196        0      946   \n",
       "4       44     9138     7624        0     1514   \n",
       "\n",
       "                                            geometry  \n",
       "0  POLYGON ((378273.188 3694294.212, 378353.904 3...  \n",
       "1  POLYGON ((416797.879 3683920.544, 416888.862 3...  \n",
       "2  POLYGON ((340621.665 3913569.014, 340632.119 3...  \n",
       "3  POLYGON ((386980.334 3721918.007, 387001.687 3...  \n",
       "4  POLYGON ((407401.640 3694192.009, 407402.139 3...  \n",
       "\n",
       "[5 rows x 338 columns]"
      ]
     },
     "execution_count": 53,
     "metadata": {},
     "output_type": "execute_result"
    }
   ],
   "source": [
    "sen_df.head()"
   ]
  },
  {
   "cell_type": "code",
   "execution_count": 54,
   "id": "4c1f0b5a-78c6-4941-aec5-35bd198f610a",
   "metadata": {},
   "outputs": [
    {
     "name": "stdout",
     "output_type": "stream",
     "text": [
      "{1, 2, 3, 4, 5, 6, 7, 8, 9, 10, 11, 12, 13, 14, 15, 16, 17, 18, 19, 20, 21, 22, 23, 24, 25, 26, 27, 28, 29, 30}\n",
      "{1, 2, 3, 4, 5, 6, 7, 8, 9, 10, 11, 12, 13, 14, 15, 16, 17, 18, 19, 20, 21, 22, 23, 24, 25, 26, 27, 28, 29, 30}\n"
     ]
    }
   ],
   "source": [
    "for precinct_index in range(len(final_df)):\n",
    "    final_df.at[precinct_index, \"SEND\"] = sen_df.at[int(final_df.at[precinct_index, \"SEND\"]), district_col_name]\n",
    "print(set(sen_df[district_col_name]))\n",
    "print(set(final_df[\"SEND\"]))"
   ]
  },
  {
   "cell_type": "code",
   "execution_count": 55,
   "id": "ed13d3fc-6e36-4724-8eb6-72aa28b3c2d0",
   "metadata": {},
   "outputs": [
    {
     "data": {
      "text/plain": [
       "Index(['CDE_COUNTY', 'PCTNUM', 'PRECINCTNA', 'G20PRED', 'G20PRER', 'G20USSD',\n",
       "       'G20USSR', 'geometry', 'TOTPOP', 'HISP', 'NH_WHITE', 'NH_BLACK',\n",
       "       'NH_AMIN', 'NH_ASIAN', 'NH_NHPI', 'NH_OTHER', 'VAP', 'HVAP', 'WVAP',\n",
       "       'BVAP', 'AMINVAP', 'ASIANVAP', 'NHPIVAP', 'OTHERVAP', 'G18USSR',\n",
       "       'G18USSD', 'G18GOVR', 'G18GOVD', 'G18SOSR', 'G18SOSD', 'G18ATGR',\n",
       "       'G18ATGD', 'G18TRER', 'G18TRED', 'G18SPIR', 'G18SPID', 'G18MNIR',\n",
       "       'G18MNID', 'SEND'],\n",
       "      dtype='object')"
      ]
     },
     "execution_count": 55,
     "metadata": {},
     "output_type": "execute_result"
    }
   ],
   "source": [
    "final_df.columns"
   ]
  },
  {
   "cell_type": "code",
   "execution_count": 56,
   "id": "91f65e87-3cdf-4fba-9302-58bf5f397f16",
   "metadata": {},
   "outputs": [
    {
     "data": {
      "text/plain": [
       "<Axes: >"
      ]
     },
     "execution_count": 56,
     "metadata": {},
     "output_type": "execute_result"
    },
    {
     "data": {
      "image/png": "[encoded data removed]",
      "text/plain": [
       "<Figure size 640x480 with 1 Axes>"
      ]
     },
     "metadata": {},
     "output_type": "display_data"
    }
   ],
   "source": [
    "final_df.plot()"
   ]
  },
  {
   "cell_type": "code",
   "execution_count": 59,
   "id": "ffefbeeb-caa8-4538-8a59-9967b2576ee8",
   "metadata": {},
   "outputs": [
    {
     "name": "stdout",
     "output_type": "stream",
     "text": [
      "[246622, 217814, 207554, 222588, 228298, 232186, 194148, 229764, 220117, 220240, 250664, 305494, 281046, 224563, 244036, 268268, 259194, 232183, 242889, 238843, 238402, 273300, 236376, 225034, 241534, 237003, 236787, 231260, 233933, 231362]\n"
     ]
    }
   ],
   "source": [
    "pop_vals = [final_df.loc[final_df[\"SEND\"] == n, \"TOTPOP\"].sum() for n in range(1, 31)]\n",
    "print(pop_vals)"
   ]
  },
  {
   "cell_type": "code",
   "execution_count": 62,
   "id": "c8796714-1c46-4911-b586-d20e0dddc4bd",
   "metadata": {},
   "outputs": [],
   "source": [
    "import os\n",
    "directory = \"../data\"\n",
    "folder = \"../data/AZ\"\n",
    "if not os.path.exists(directory):\n",
    "    os.makedirs(directory)\n",
    "if not os.path.exists(folder):\n",
    "    os.makedirs(folder)\n",
    "final_df.to_file(\"../data/AZ/AZ.shp\")"
   ]
  },
  {
   "cell_type": "code",
   "execution_count": null,
   "id": "567fc312-96cd-420f-8602-3c4bb9a1965e",
   "metadata": {},
   "outputs": [],
   "source": []
  }
 ],
 "metadata": {
  "kernelspec": {
   "display_name": "gerry",
   "language": "python",
   "name": "gerry"
  },
  "language_info": {
   "codemirror_mode": {
    "name": "ipython",
    "version": 3
   },
   "file_extension": ".py",
   "mimetype": "text/x-python",
   "name": "python",
   "nbconvert_exporter": "python",
   "pygments_lexer": "ipython3",
   "version": "3.11.4"
  }
 },
 "nbformat": 4,
 "nbformat_minor": 5
}
