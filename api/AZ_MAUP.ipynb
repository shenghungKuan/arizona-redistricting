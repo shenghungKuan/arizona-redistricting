{
 "cells": [
  {
   "cell_type": "code",
   "execution_count": 3,
   "id": "d760f4d4-6daa-40b6-a018-d0305615ae5d",
   "metadata": {},
   "outputs": [
    {
     "name": "stdout",
     "output_type": "stream",
     "text": [
      "{'message': 'This is a test'}\n"
     ]
    }
   ],
   "source": [
    "import requests\n",
    "\n",
    "base_url = \" http://127.0.0.1:8000/\"\n",
    "response = requests.get(base_url + \"/arizona/test\")\n",
    "print(response.json())"
   ]
  },
  {
   "cell_type": "code",
   "execution_count": null,
   "id": "af750f83-d389-47d6-98bc-86322e4692b0",
   "metadata": {},
   "outputs": [],
   "source": []
  }
 ],
 "metadata": {
  "kernelspec": {
   "display_name": "Arizona Redistricting",
   "language": "python",
   "name": "venv"
  },
  "language_info": {
   "codemirror_mode": {
    "name": "ipython",
    "version": 3
   },
   "file_extension": ".py",
   "mimetype": "text/x-python",
   "name": "python",
   "nbconvert_exporter": "python",
   "pygments_lexer": "ipython3",
   "version": "3.12.6"
  }
 },
 "nbformat": 4,
 "nbformat_minor": 5
}
